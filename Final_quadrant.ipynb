{
 "cells": [
  {
   "cell_type": "code",
   "execution_count": 18,
   "id": "8c8f3e63",
   "metadata": {},
   "outputs": [],
   "source": [
    "import pandas as pd\n"
   ]
  },
  {
   "cell_type": "code",
   "execution_count": 19,
   "id": "75093b85",
   "metadata": {},
   "outputs": [],
   "source": [
    "messages_df= pd.read_csv(\"Messages.csv\")\n",
    "keywords_df=pd.read_csv(\"keywords.csv\")"
   ]
  },
  {
   "cell_type": "code",
   "execution_count": null,
   "id": "584c0c18",
   "metadata": {},
   "outputs": [],
   "source": []
  },
  {
   "cell_type": "code",
   "execution_count": 20,
   "id": "fc499418",
   "metadata": {},
   "outputs": [
    {
     "data": {
      "text/html": [
       "<div>\n",
       "<style scoped>\n",
       "    .dataframe tbody tr th:only-of-type {\n",
       "        vertical-align: middle;\n",
       "    }\n",
       "\n",
       "    .dataframe tbody tr th {\n",
       "        vertical-align: top;\n",
       "    }\n",
       "\n",
       "    .dataframe thead th {\n",
       "        text-align: right;\n",
       "    }\n",
       "</style>\n",
       "<table border=\"1\" class=\"dataframe\">\n",
       "  <thead>\n",
       "    <tr style=\"text-align: right;\">\n",
       "      <th></th>\n",
       "      <th>1 desk</th>\n",
       "    </tr>\n",
       "  </thead>\n",
       "  <tbody>\n",
       "    <tr>\n",
       "      <th>0</th>\n",
       "      <td>flat pack desk, cupboard, pedestal drawers</td>\n",
       "    </tr>\n",
       "    <tr>\n",
       "      <th>1</th>\n",
       "      <td>door step delivery</td>\n",
       "    </tr>\n",
       "    <tr>\n",
       "      <th>2</th>\n",
       "      <td>ground floor</td>\n",
       "    </tr>\n",
       "    <tr>\n",
       "      <th>3</th>\n",
       "      <td>No number i'm afraid - i can wait here on the web</td>\n",
       "    </tr>\n",
       "    <tr>\n",
       "      <th>4</th>\n",
       "      <td>1 day bed</td>\n",
       "    </tr>\n",
       "    <tr>\n",
       "      <th>...</th>\n",
       "      <td>...</td>\n",
       "    </tr>\n",
       "    <tr>\n",
       "      <th>5873</th>\n",
       "      <td>could you share here the quote, please?</td>\n",
       "    </tr>\n",
       "    <tr>\n",
       "      <th>5874</th>\n",
       "      <td>thank you</td>\n",
       "    </tr>\n",
       "    <tr>\n",
       "      <th>5875</th>\n",
       "      <td>yes</td>\n",
       "    </tr>\n",
       "    <tr>\n",
       "      <th>5876</th>\n",
       "      <td>Thank you for your time. I will let you know w...</td>\n",
       "    </tr>\n",
       "    <tr>\n",
       "      <th>5877</th>\n",
       "      <td>CO7 6EH</td>\n",
       "    </tr>\n",
       "  </tbody>\n",
       "</table>\n",
       "<p>5878 rows × 1 columns</p>\n",
       "</div>"
      ],
      "text/plain": [
       "                                                 1 desk\n",
       "0            flat pack desk, cupboard, pedestal drawers\n",
       "1                                    door step delivery\n",
       "2                                          ground floor\n",
       "3     No number i'm afraid - i can wait here on the web\n",
       "4                                             1 day bed\n",
       "...                                                 ...\n",
       "5873            could you share here the quote, please?\n",
       "5874                                          thank you\n",
       "5875                                                yes\n",
       "5876  Thank you for your time. I will let you know w...\n",
       "5877                                            CO7 6EH\n",
       "\n",
       "[5878 rows x 1 columns]"
      ]
     },
     "execution_count": 20,
     "metadata": {},
     "output_type": "execute_result"
    }
   ],
   "source": [
    "messages_df"
   ]
  },
  {
   "cell_type": "code",
   "execution_count": 21,
   "id": "7cc3468c",
   "metadata": {},
   "outputs": [
    {
     "data": {
      "text/html": [
       "<div>\n",
       "<style scoped>\n",
       "    .dataframe tbody tr th:only-of-type {\n",
       "        vertical-align: middle;\n",
       "    }\n",
       "\n",
       "    .dataframe tbody tr th {\n",
       "        vertical-align: top;\n",
       "    }\n",
       "\n",
       "    .dataframe thead th {\n",
       "        text-align: right;\n",
       "    }\n",
       "</style>\n",
       "<table border=\"1\" class=\"dataframe\">\n",
       "  <thead>\n",
       "    <tr style=\"text-align: right;\">\n",
       "      <th></th>\n",
       "      <th>basement</th>\n",
       "    </tr>\n",
       "  </thead>\n",
       "  <tbody>\n",
       "    <tr>\n",
       "      <th>0</th>\n",
       "      <td>bungalow</td>\n",
       "    </tr>\n",
       "    <tr>\n",
       "      <th>1</th>\n",
       "      <td>delivery</td>\n",
       "    </tr>\n",
       "    <tr>\n",
       "      <th>2</th>\n",
       "      <td>downstair</td>\n",
       "    </tr>\n",
       "    <tr>\n",
       "      <th>3</th>\n",
       "      <td>front door</td>\n",
       "    </tr>\n",
       "    <tr>\n",
       "      <th>4</th>\n",
       "      <td>garage</td>\n",
       "    </tr>\n",
       "    <tr>\n",
       "      <th>5</th>\n",
       "      <td>garden</td>\n",
       "    </tr>\n",
       "    <tr>\n",
       "      <th>6</th>\n",
       "      <td>home</td>\n",
       "    </tr>\n",
       "    <tr>\n",
       "      <th>7</th>\n",
       "      <td>level</td>\n",
       "    </tr>\n",
       "    <tr>\n",
       "      <th>8</th>\n",
       "      <td>pavement</td>\n",
       "    </tr>\n",
       "    <tr>\n",
       "      <th>9</th>\n",
       "      <td>pickup</td>\n",
       "    </tr>\n",
       "    <tr>\n",
       "      <th>10</th>\n",
       "      <td>right now</td>\n",
       "    </tr>\n",
       "    <tr>\n",
       "      <th>11</th>\n",
       "      <td>stairs</td>\n",
       "    </tr>\n",
       "    <tr>\n",
       "      <th>12</th>\n",
       "      <td>storage</td>\n",
       "    </tr>\n",
       "    <tr>\n",
       "      <th>13</th>\n",
       "      <td>street level</td>\n",
       "    </tr>\n",
       "  </tbody>\n",
       "</table>\n",
       "</div>"
      ],
      "text/plain": [
       "        basement\n",
       "0       bungalow\n",
       "1       delivery\n",
       "2      downstair\n",
       "3     front door\n",
       "4         garage\n",
       "5         garden\n",
       "6           home\n",
       "7          level\n",
       "8       pavement\n",
       "9         pickup\n",
       "10     right now\n",
       "11        stairs\n",
       "12       storage\n",
       "13  street level"
      ]
     },
     "execution_count": 21,
     "metadata": {},
     "output_type": "execute_result"
    }
   ],
   "source": [
    "keywords_df"
   ]
  },
  {
   "cell_type": "code",
   "execution_count": 23,
   "id": "b6683279",
   "metadata": {},
   "outputs": [],
   "source": [
    "messages_df.rename(columns={'1 desk': 'Message'}, inplace=True)\n",
    "keywords_df.rename(columns={'basement': 'Keyword'}, inplace=True)\n"
   ]
  },
  {
   "cell_type": "code",
   "execution_count": 30,
   "id": "cd2503f4",
   "metadata": {},
   "outputs": [
    {
     "name": "stderr",
     "output_type": "stream",
     "text": [
      "C:\\Users\\samee\\AppData\\Local\\Temp\\ipykernel_12156\\1031778763.py:4: FutureWarning: The frame.append method is deprecated and will be removed from pandas in a future version. Use pandas.concat instead.\n",
      "  frequency_distribution = frequency_distribution.append({'Keyword': keyword, 'Frequency': frequency}, ignore_index=True)\n",
      "C:\\Users\\samee\\AppData\\Local\\Temp\\ipykernel_12156\\1031778763.py:4: FutureWarning: The frame.append method is deprecated and will be removed from pandas in a future version. Use pandas.concat instead.\n",
      "  frequency_distribution = frequency_distribution.append({'Keyword': keyword, 'Frequency': frequency}, ignore_index=True)\n",
      "C:\\Users\\samee\\AppData\\Local\\Temp\\ipykernel_12156\\1031778763.py:4: FutureWarning: The frame.append method is deprecated and will be removed from pandas in a future version. Use pandas.concat instead.\n",
      "  frequency_distribution = frequency_distribution.append({'Keyword': keyword, 'Frequency': frequency}, ignore_index=True)\n",
      "C:\\Users\\samee\\AppData\\Local\\Temp\\ipykernel_12156\\1031778763.py:4: FutureWarning: The frame.append method is deprecated and will be removed from pandas in a future version. Use pandas.concat instead.\n",
      "  frequency_distribution = frequency_distribution.append({'Keyword': keyword, 'Frequency': frequency}, ignore_index=True)\n",
      "C:\\Users\\samee\\AppData\\Local\\Temp\\ipykernel_12156\\1031778763.py:4: FutureWarning: The frame.append method is deprecated and will be removed from pandas in a future version. Use pandas.concat instead.\n",
      "  frequency_distribution = frequency_distribution.append({'Keyword': keyword, 'Frequency': frequency}, ignore_index=True)\n",
      "C:\\Users\\samee\\AppData\\Local\\Temp\\ipykernel_12156\\1031778763.py:4: FutureWarning: The frame.append method is deprecated and will be removed from pandas in a future version. Use pandas.concat instead.\n",
      "  frequency_distribution = frequency_distribution.append({'Keyword': keyword, 'Frequency': frequency}, ignore_index=True)\n",
      "C:\\Users\\samee\\AppData\\Local\\Temp\\ipykernel_12156\\1031778763.py:4: FutureWarning: The frame.append method is deprecated and will be removed from pandas in a future version. Use pandas.concat instead.\n",
      "  frequency_distribution = frequency_distribution.append({'Keyword': keyword, 'Frequency': frequency}, ignore_index=True)\n",
      "C:\\Users\\samee\\AppData\\Local\\Temp\\ipykernel_12156\\1031778763.py:4: FutureWarning: The frame.append method is deprecated and will be removed from pandas in a future version. Use pandas.concat instead.\n",
      "  frequency_distribution = frequency_distribution.append({'Keyword': keyword, 'Frequency': frequency}, ignore_index=True)\n",
      "C:\\Users\\samee\\AppData\\Local\\Temp\\ipykernel_12156\\1031778763.py:4: FutureWarning: The frame.append method is deprecated and will be removed from pandas in a future version. Use pandas.concat instead.\n",
      "  frequency_distribution = frequency_distribution.append({'Keyword': keyword, 'Frequency': frequency}, ignore_index=True)\n",
      "C:\\Users\\samee\\AppData\\Local\\Temp\\ipykernel_12156\\1031778763.py:4: FutureWarning: The frame.append method is deprecated and will be removed from pandas in a future version. Use pandas.concat instead.\n",
      "  frequency_distribution = frequency_distribution.append({'Keyword': keyword, 'Frequency': frequency}, ignore_index=True)\n",
      "C:\\Users\\samee\\AppData\\Local\\Temp\\ipykernel_12156\\1031778763.py:4: FutureWarning: The frame.append method is deprecated and will be removed from pandas in a future version. Use pandas.concat instead.\n",
      "  frequency_distribution = frequency_distribution.append({'Keyword': keyword, 'Frequency': frequency}, ignore_index=True)\n",
      "C:\\Users\\samee\\AppData\\Local\\Temp\\ipykernel_12156\\1031778763.py:4: FutureWarning: The frame.append method is deprecated and will be removed from pandas in a future version. Use pandas.concat instead.\n",
      "  frequency_distribution = frequency_distribution.append({'Keyword': keyword, 'Frequency': frequency}, ignore_index=True)\n",
      "C:\\Users\\samee\\AppData\\Local\\Temp\\ipykernel_12156\\1031778763.py:4: FutureWarning: The frame.append method is deprecated and will be removed from pandas in a future version. Use pandas.concat instead.\n",
      "  frequency_distribution = frequency_distribution.append({'Keyword': keyword, 'Frequency': frequency}, ignore_index=True)\n",
      "C:\\Users\\samee\\AppData\\Local\\Temp\\ipykernel_12156\\1031778763.py:4: FutureWarning: The frame.append method is deprecated and will be removed from pandas in a future version. Use pandas.concat instead.\n",
      "  frequency_distribution = frequency_distribution.append({'Keyword': keyword, 'Frequency': frequency}, ignore_index=True)\n"
     ]
    }
   ],
   "source": [
    "frequency_distribution = pd.DataFrame(columns=['Keyword', 'Frequency'])\n",
    "for keyword in keywords_df['Keyword']:\n",
    "    frequency = sum(messages_df['Message'].str.contains(keyword, case=False))\n",
    "    frequency_distribution = frequency_distribution.append({'Keyword': keyword, 'Frequency': frequency}, ignore_index=True)\n"
   ]
  },
  {
   "cell_type": "code",
   "execution_count": 25,
   "id": "ddd60c41",
   "metadata": {},
   "outputs": [],
   "source": [
    "frequency_distribution = frequency_distribution.sort_values(by='Frequency', ascending=False)\n"
   ]
  },
  {
   "cell_type": "code",
   "execution_count": 33,
   "id": "fb472b38",
   "metadata": {},
   "outputs": [],
   "source": [
    "rank_1_keyword = frequency_distribution.iloc[0]['Keyword']\n",
    "rank_1_frequency = frequency_distribution.iloc[0]['Frequency']\n",
    "\n",
    "rank_3_keyword = frequency_distribution.iloc[2]['Keyword']\n",
    "rank_3_frequency = frequency_distribution.iloc[2]['Frequency']\n",
    "\n",
    "rank_9_keyword = frequency_distribution.iloc[8]['Keyword']\n",
    "rank_9_frequency = frequency_distribution.iloc[8]['Frequency']"
   ]
  },
  {
   "cell_type": "code",
   "execution_count": 34,
   "id": "73537f7b",
   "metadata": {},
   "outputs": [
    {
     "name": "stdout",
     "output_type": "stream",
     "text": [
      "Rank 1 Keyword: bungalow\n",
      "Rank 1 Frequency: 30\n",
      "Rank 3 Keyword: downstair\n",
      "Rank 3 Frequency: 31\n",
      "Rank 9 Keyword: pavement\n",
      "Rank 9 Frequency: 3\n"
     ]
    }
   ],
   "source": [
    "print(f\"Rank 1 Keyword: {rank_1_keyword}\")\n",
    "print(f\"Rank 1 Frequency: {rank_1_frequency}\")\n",
    "\n",
    "print(f\"Rank 3 Keyword: {rank_3_keyword}\")\n",
    "print(f\"Rank 3 Frequency: {rank_3_frequency}\")\n",
    "\n",
    "print(f\"Rank 9 Keyword: {rank_9_keyword}\")\n",
    "print(f\"Rank 9 Frequency: {rank_9_frequency}\")"
   ]
  },
  {
   "cell_type": "code",
   "execution_count": 35,
   "id": "293dd508",
   "metadata": {},
   "outputs": [],
   "source": [
    "frequency_distribution.to_excel('frequency_distribution.xlsx', index=False)# For Excel\n"
   ]
  },
  {
   "cell_type": "code",
   "execution_count": null,
   "id": "c8dfe932",
   "metadata": {},
   "outputs": [],
   "source": []
  },
  {
   "cell_type": "code",
   "execution_count": null,
   "id": "085780da",
   "metadata": {},
   "outputs": [],
   "source": []
  },
  {
   "cell_type": "code",
   "execution_count": null,
   "id": "228bed65",
   "metadata": {},
   "outputs": [],
   "source": []
  }
 ],
 "metadata": {
  "kernelspec": {
   "display_name": "Python 3 (ipykernel)",
   "language": "python",
   "name": "python3"
  },
  "language_info": {
   "codemirror_mode": {
    "name": "ipython",
    "version": 3
   },
   "file_extension": ".py",
   "mimetype": "text/x-python",
   "name": "python",
   "nbconvert_exporter": "python",
   "pygments_lexer": "ipython3",
   "version": "3.9.12"
  }
 },
 "nbformat": 4,
 "nbformat_minor": 5
}
